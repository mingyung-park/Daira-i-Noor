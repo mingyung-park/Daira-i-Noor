{
 "cells": [
  {
   "cell_type": "markdown",
   "metadata": {},
   "source": [
    "# defining functions\n",
    "\n",
    "함수를 정의하는 기본 구문을 배운다.\n",
    "함수를 정의할 때는 다음과 깉은 형식을 지켜 정의해야한다.\n",
    "\n",
    "```python\n",
    "    def 함수 이름(파라미터들):\n",
    "        '''\n",
    "        docstring부분. 함수의 문서화 내용을 입력한다\n",
    "        '''\n",
    "        statement들\n",
    "```\n",
    "\n",
    "여기서 def 가 있는 줄은 헤더라인, 뒤의 statement들을 정의한 부분을 body라고 부른다.\n",
    "'''사이에 있는 docstring은 ```함수이름.__doc__```으로 확인할 수 있다."
   ]
  },
  {
   "cell_type": "code",
   "execution_count": 1,
   "metadata": {},
   "outputs": [],
   "source": [
    "# 간단하게 함수를 정의해보자\n",
    "def MG_Park():\n",
    "    \"\"\"greetings!!\n",
    "    \"\"\"\n",
    "    print (\"My name is MG Park\")\n",
    "    print (\"nice to meet you:)\")"
   ]
  },
  {
   "cell_type": "code",
   "execution_count": 4,
   "metadata": {},
   "outputs": [
    {
     "name": "stdout",
     "output_type": "stream",
     "text": [
      "My name is MG Park\n",
      "nice to meet you:)\n",
      "greetings!!\n",
      "    \n",
      "<class 'function'>\n"
     ]
    }
   ],
   "source": [
    "# execute function here!\n",
    "MG_Park()\n",
    "# docstring출력해보자\n",
    "print(MG_Park.__doc__)\n",
    "# 함수의 type을 출력해보면 다음처럼 나온다\n",
    "print(type(MG_Park))"
   ]
  },
  {
   "cell_type": "code",
   "execution_count": 9,
   "metadata": {},
   "outputs": [],
   "source": [
    "def loop_test(a):\n",
    "    if a>1:\n",
    "        loop_test(a-1)\n",
    "    print(f\"{a} : hi\")"
   ]
  },
  {
   "cell_type": "code",
   "execution_count": 11,
   "metadata": {},
   "outputs": [
    {
     "name": "stdout",
     "output_type": "stream",
     "text": [
      "1 : hi\n",
      "2 : hi\n",
      "3 : hi\n"
     ]
    }
   ],
   "source": [
    "loop_test(3)"
   ]
  },
  {
   "cell_type": "markdown",
   "metadata": {},
   "source": [
    "## Type annotaions\n",
    "\n",
    "```py\n",
    "    def duplicate(msg):\n",
    "        \"\"\"Returns a string containing two copies of `msg`\"\"\"\n",
    "\n",
    "        return msg + msg\n",
    "```\n",
    "\n",
    "이 함수는 string input을 사용하는 것을 상정하고 있지만, 실제 사용에서는 다른 값을 넣을 수 있다. \n",
    "함수의 파라미터와 리턴 type을 annotation 할 수 있다. (하지만 annotation은 interpreter에서 무시되기 때문에 어디까지나 annotation이다.)"
   ]
  },
  {
   "cell_type": "code",
   "execution_count": 12,
   "metadata": {},
   "outputs": [],
   "source": [
    "# input과 return의 type을 string으로 annotation한다.\n",
    "\n",
    "def duplicate(msg: str) -> str:\n",
    "    \"\"\"Returns a string containing two copies of `msg`\"\"\"\n",
    "\n",
    "    return msg + msg\n"
   ]
  },
  {
   "cell_type": "code",
   "execution_count": 14,
   "metadata": {},
   "outputs": [
    {
     "name": "stdout",
     "output_type": "stream",
     "text": [
      "HelloHello\n",
      "2\n"
     ]
    }
   ],
   "source": [
    "result = duplicate('Hello')\n",
    "print(result)\n",
    "\n",
    "# 하지만 annotation은 annotation일 뿐!!\n",
    "result2 = duplicate(1)\n",
    "print(result2)"
   ]
  },
  {
   "cell_type": "code",
   "execution_count": 16,
   "metadata": {},
   "outputs": [],
   "source": [
    "# |(pipe) 심볼을 사용할 수도 있다\n",
    "def add_em_up(nums: list[int | float]) -> int | float:\n",
    "    tot = 0\n",
    "    for num in nums:\n",
    "        tot += num\n",
    "    return tot"
   ]
  }
 ],
 "metadata": {
  "kernelspec": {
   "display_name": "base",
   "language": "python",
   "name": "python3"
  },
  "language_info": {
   "codemirror_mode": {
    "name": "ipython",
    "version": 3
   },
   "file_extension": ".py",
   "mimetype": "text/x-python",
   "name": "python",
   "nbconvert_exporter": "python",
   "pygments_lexer": "ipython3",
   "version": "3.11.7"
  }
 },
 "nbformat": 4,
 "nbformat_minor": 2
}
